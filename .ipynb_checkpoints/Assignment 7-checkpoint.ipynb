{
 "cells": [
  {
   "cell_type": "markdown",
   "metadata": {},
   "source": [
    "# <center>CSIS 452 - Applied Machine Learning</center>\n",
    "## Assignment 7 - due: 5/7/2020\n",
    "In this assignment you will develop a Deep Neural Network (DNN) for handwritten digit recognition using MNIST data set.\n",
    "\n",
    "Enter your name as a comment in the cell below"
   ]
  },
  {
   "cell_type": "code",
   "execution_count": 1,
   "metadata": {},
   "outputs": [],
   "source": [
    "# Developer: Brady Lange\n",
    "# Date: 05/03/2020\n",
    "# Course: Applied Machine Learning (CSIS 452)\n",
    "# Description:"
   ]
  },
  {
   "cell_type": "code",
   "execution_count": 2,
   "metadata": {},
   "outputs": [
    {
     "name": "stderr",
     "output_type": "stream",
     "text": [
      "Using TensorFlow backend.\n"
     ]
    }
   ],
   "source": [
    "# Import required libraries\n",
    "import numpy as np\n",
    "from matplotlib.cm import binary\n",
    "import matplotlib.pyplot as plt\n",
    "from sklearn.preprocessing import OneHotEncoder\n",
    "from sklearn.model_selection import train_test_split\n",
    "from sklearn.metrics import accuracy_score, confusion_matrix, precision_score, recall_score, f1_score\n",
    "\n",
    "from keras.datasets import mnist\n",
    "from keras import losses, optimizers, metrics, backend as K \n",
    "from keras.initializers import he_normal, glorot_uniform\n",
    "from keras.models import Sequential\n",
    "from keras.layers import Dense, Activation, Dropout\n",
    "from keras.layers.normalization import BatchNormalization"
   ]
  },
  {
   "cell_type": "markdown",
   "metadata": {},
   "source": [
    "The following function can be used to display a random sample of images along with targets and predicted class."
   ]
  },
  {
   "cell_type": "code",
   "execution_count": 3,
   "metadata": {},
   "outputs": [],
   "source": [
    "def display_a_random_sample_of_images(grid_size, images, targets, predictions = np.array([]), title = \"images\"):\n",
    "    \"\"\" \n",
    "    Displayes a random sample of images with the corresponding targets\n",
    "    \n",
    "    \n",
    "    Argument:\n",
    "        grid_size -- size of subplot will be grid_sizeXgrid_size.\n",
    "        images -- an array of images 32x32  (num_images x 8 x 8)\n",
    "        targets -- an array of class values (num_images x 1) containing class values \n",
    "             between 0 and 9  \n",
    "        predictions -- an array of predicted class values (nume_images X 1) containig predicted\n",
    "             class values between 0 and 9\n",
    "    Returns:\n",
    "        None\n",
    "    \"\"\"\n",
    "    class_names = [\"0\", \"1\", \"2\", \"3\", \"4\", \"5\", \"6\", \"7\", \"8\", \"9\"] \n",
    "    #reshape the images for display\n",
    "    \n",
    "    fig, axes1 = plt.subplots(grid_size, grid_size, figsize = (5, 5))\n",
    "    fig.suptitle(title, fontsize = \"x-small\")\n",
    "    plt.subplots_adjust(left = None, bottom = None, right = None, top = None, wspace = 0.8, hspace = 0.8)\n",
    "    \n",
    "    for j in range(grid_size):\n",
    "        for k in range(grid_size):\n",
    "            i = np.random.choice(range(len(images)))\n",
    "            axes1[j][k].set_axis_off()\n",
    "            if predictions.size > 0:\n",
    "                axes1[j][k].set_title(class_names[targets[i]] + \",\" + class_names[predictions[i]])\n",
    "            else:\n",
    "                axes1[j][k].set_title(class_names[targets[i]])\n",
    "            axes1[j][k].title.set_fontsize(8)\n",
    "            axes1[j][k].imshow(images[i, :, :], cmap = binary, interpolation = \"nearest\")"
   ]
  },
  {
   "cell_type": "markdown",
   "metadata": {},
   "source": [
    "Let's first load the data set from keras datasets.  You will need to look at Keras datasets documentation, learn about the MNIST data set and develop the code below."
   ]
  },
  {
   "cell_type": "code",
   "execution_count": 4,
   "metadata": {},
   "outputs": [],
   "source": [
    "def load_digits():\n",
    "    \"\"\"\n",
    "    Load and returns images and targets from the sklearn digits dataset.  \n",
    "    \n",
    "    Arguments: None\n",
    "    \n",
    "    #Returns: \n",
    "        images -- an array of digit images (num_imagesX8x8) \n",
    "               -- images are in normlaized form\n",
    "        target_classes -- an array of class values (num_imagesX1) containing \n",
    "        class values between 0 and 9\n",
    "\n",
    "    \"\"\"    \n",
    "\n",
    "    (X_train, y_train), (X_test, y_test) = mnist.load_data()\n",
    "    \n",
    "    return X_train, y_train, X_test, y_test"
   ]
  },
  {
   "cell_type": "markdown",
   "metadata": {},
   "source": [
    "Now, let's load the images and display a random sample of 9 images in a 3-by-3 grid along with their corresponding target class using the functions developed above."
   ]
  },
  {
   "cell_type": "code",
   "execution_count": 5,
   "metadata": {},
   "outputs": [
    {
     "name": "stdout",
     "output_type": "stream",
     "text": [
      "(60000, 28, 28) (60000,) (10000, 28, 28) (10000,)\n"
     ]
    },
    {
     "data": {
      "image/png": "[encoded data removed]",
      "text/plain": [
       "<Figure size 360x360 with 9 Axes>"
      ]
     },
     "metadata": {
      "needs_background": "light"
     },
     "output_type": "display_data"
    }
   ],
   "source": [
    "X_train, y_train, X_test, y_test = load_digits()\n",
    "print(X_train.shape, y_train.shape, X_test.shape, y_test.shape)\n",
    "np.random.seed(2)\n",
    "display_a_random_sample_of_images(3, X_train, y_train, title = \"images\")\n",
    "plt.show()"
   ]
  },
  {
   "cell_type": "markdown",
   "metadata": {},
   "source": [
    "## Expected output:\n",
    "<img src=\"Figure1.png\" width=\"20%\" height=\"20%\" align=\"left\"> <br>\n"
   ]
  },
  {
   "cell_type": "markdown",
   "metadata": {},
   "source": [
    "Next, we will reshape the train images from 60000 x 28 x 28 to 60000 x 784 and test images from 10000 x 28 x 28 to 10000 x 784. This way, each image will be represented with a vector of 784 pixel values. We will also reshape the targets to a rank-2 vector."
   ]
  },
  {
   "cell_type": "code",
   "execution_count": 6,
   "metadata": {},
   "outputs": [
    {
     "name": "stdout",
     "output_type": "stream",
     "text": [
      "(60000, 784) (60000, 1) (10000, 784) (10000, 1)\n"
     ]
    }
   ],
   "source": [
    "X_train_flat = X_train.reshape(X_train.shape[0], X_train.shape[1] * X_train.shape[2])\n",
    "y_train_flat = y_train.reshape(y_train.shape[0], 1)\n",
    "X_test_flat = X_test.reshape(X_test.shape[0], X_test.shape[1] * X_test.shape[2])\n",
    "y_test_flat = y_test.reshape(y_test.shape[0], 1)\n",
    "\n",
    "print(X_train_flat.shape, y_train_flat.shape, X_test_flat.shape, y_test_flat.shape)"
   ]
  },
  {
   "cell_type": "markdown",
   "metadata": {},
   "source": [
    "## Expected output:\n",
    "(60000, 784) (60000, 1) (10000, 784) (10000, 1)"
   ]
  },
  {
   "cell_type": "markdown",
   "metadata": {},
   "source": [
    "We will now develop and train a six-layer (nx-128(ReLu)-64(ReLu)-32(ReLu)-16(ReLu)-8(ReLu)-ny(softmax)) Deep Neural Network (DNN) and train it using the data we just extracted.\n",
    "\n",
    "Let's OneHot encode the targets first"
   ]
  },
  {
   "cell_type": "code",
   "execution_count": 7,
   "metadata": {},
   "outputs": [
    {
     "name": "stdout",
     "output_type": "stream",
     "text": [
      "(60000, 10)\n",
      "(10000, 10)\n"
     ]
    }
   ],
   "source": [
    "ohe = OneHotEncoder()\n",
    "y_train_ohe = ohe.fit_transform(y_train_flat)\n",
    "y_test_ohe = ohe.fit_transform(y_test_flat)\n",
    "print(y_train_ohe.shape)\n",
    "print(y_test_ohe.shape)"
   ]
  },
  {
   "cell_type": "markdown",
   "metadata": {},
   "source": [
    "## Expected output:\n",
    "(60000, 10)\n",
    "(10000, 10)"
   ]
  },
  {
   "cell_type": "markdown",
   "metadata": {},
   "source": [
    "Now, let's build the model and train the it.  Use validation_split of 0.1 to allow for a 10% validation set, 5 epochs for training and set training to be verbos.  Keep in mind that this is a multi-class problem, so your loss should be <b>categorical_crossentropy</b> and for metrics use <b>accuracy</b>.  You will also need to bacth normalize and use dropout after each hidden layer.  The DNN structore should be:\n",
    "<p>nx-128(ReLu)</p>\n",
    "<p>64(ReLu)</p>\n",
    "<p>32(ReLu)</p>\n",
    "<p>16(ReLu)</p>\n",
    "<p>8(ReLu)</p>\n",
    "<p>ny(softmax))</p>"
   ]
  },
  {
   "cell_type": "code",
   "execution_count": 8,
   "metadata": {},
   "outputs": [
    {
     "name": "stdout",
     "output_type": "stream",
     "text": [
      "Train on 54000 samples, validate on 6000 samples\n",
      "Epoch 1/5\n",
      "54000/54000 [==============================] - 10s 188us/step - loss: 0.8533 - accuracy: 0.0000e+00 - val_loss: 0.1963 - val_accuracy: 0.0000e+00\n",
      "Epoch 2/5\n",
      "54000/54000 [==============================] - 9s 169us/step - loss: 0.6215 - accuracy: 0.0000e+00 - val_loss: 0.1433 - val_accuracy: 0.0000e+00\n",
      "Epoch 3/5\n",
      "54000/54000 [==============================] - 9s 168us/step - loss: 0.5714 - accuracy: 0.0000e+00 - val_loss: 0.1245 - val_accuracy: 0.0000e+00\n",
      "Epoch 4/5\n",
      "54000/54000 [==============================] - 9s 169us/step - loss: 0.5256 - accuracy: 0.0000e+00 - val_loss: 0.1111 - val_accuracy: 0.0000e+00\n",
      "Epoch 5/5\n",
      "54000/54000 [==============================] - 10s 178us/step - loss: 0.5077 - accuracy: 0.0000e+00 - val_loss: 0.1040 - val_accuracy: 0.0000e+00\n"
     ]
    }
   ],
   "source": [
    "# Clean memory, remove from computational graph - clear session before re-training\n",
    "K.clear_session()\n",
    "\n",
    "num_classes = y_train_ohe.shape[1]\n",
    "n_hidden_1 = 128\n",
    "n_hidden_2 = 64\n",
    "n_hidden_3 = 32\n",
    "n_hidden_4 = 16\n",
    "n_hidden_5 = 8\n",
    "n_outputs = num_classes\n",
    "\n",
    "dropout_rate = 0.1\n",
    "learning_rate = 0.1\n",
    "num_epochs = 5\n",
    "\n",
    "# Weight initialization\n",
    "hidden_init_vect = he_normal(seed = 1)\n",
    "output_init_vect = glorot_uniform(seed = 1)\n",
    "\n",
    "model = Sequential()\n",
    "\n",
    "model.add(Dense(units = n_hidden_1, input_dim = X_train_flat.shape[1], kernel_initializer = hidden_init_vect))\n",
    "model.add(BatchNormalization())\n",
    "model.add(Dropout(rate = dropout_rate))\n",
    "model.add(Activation(\"relu\"))\n",
    "\n",
    "model.add(Dense(units = n_hidden_2, kernel_initializer = hidden_init_vect))\n",
    "model.add(BatchNormalization())\n",
    "model.add(Dropout(rate = dropout_rate))\n",
    "model.add(Activation(\"relu\"))\n",
    "\n",
    "model.add(Dense(units = n_hidden_3, kernel_initializer = hidden_init_vect))\n",
    "model.add(BatchNormalization())\n",
    "model.add(Dropout(rate = dropout_rate))\n",
    "model.add(Activation(\"relu\"))\n",
    "\n",
    "model.add(Dense(units = n_hidden_4, kernel_initializer = hidden_init_vect))\n",
    "model.add(BatchNormalization())\n",
    "model.add(Dropout(rate = dropout_rate))\n",
    "model.add(Activation(\"relu\"))\n",
    "\n",
    "model.add(Dense(units = n_hidden_5, kernel_initializer = hidden_init_vect))\n",
    "model.add(BatchNormalization())\n",
    "model.add(Dropout(rate = dropout_rate))\n",
    "model.add(Activation(\"relu\"))\n",
    "\n",
    "model.add(Dense(units = n_outputs, kernel_initializer = output_init_vect))\n",
    "model.add(BatchNormalization())\n",
    "model.add(Dropout(rate = dropout_rate))\n",
    "model.add(Activation(\"softmax\"))\n",
    "\n",
    "model.compile(\n",
    "    loss = losses.categorical_crossentropy, \n",
    "    optimizer = optimizers.adagrad(lr = learning_rate), \n",
    "    metrics = [metrics.accuracy]\n",
    ")\n",
    "\n",
    "model_training = model.fit(\n",
    "    X_train_flat, \n",
    "    y_train_ohe, \n",
    "    epochs = num_epochs, \n",
    "    validation_split = 0.1, \n",
    "    verbose = 1\n",
    ")"
   ]
  },
  {
   "cell_type": "markdown",
   "metadata": {},
   "source": [
    "Let's plot training curves and see how the model is doing on training and validation."
   ]
  },
  {
   "cell_type": "code",
   "execution_count": 9,
   "metadata": {},
   "outputs": [
    {
     "data": {
      "image/png": "[encoded data removed]",
      "text/plain": [
       "<Figure size 432x288 with 1 Axes>"
      ]
     },
     "metadata": {
      "needs_background": "light"
     },
     "output_type": "display_data"
    },
    {
     "data": {
      "image/png": "[encoded data removed]",
      "text/plain": [
       "<Figure size 432x288 with 1 Axes>"
      ]
     },
     "metadata": {
      "needs_background": "light"
     },
     "output_type": "display_data"
    },
    {
     "data": {
      "image/png": "[encoded data removed]",
      "text/plain": [
       "<Figure size 432x288 with 1 Axes>"
      ]
     },
     "metadata": {
      "needs_background": "light"
     },
     "output_type": "display_data"
    },
    {
     "data": {
      "image/png": "[encoded data removed]",
      "text/plain": [
       "<Figure size 432x288 with 1 Axes>"
      ]
     },
     "metadata": {
      "needs_background": "light"
     },
     "output_type": "display_data"
    }
   ],
   "source": [
    "training_fig = plt.figure()\n",
    "training_ax = training_fig.add_subplot(111)\n",
    "training_ax.plot(model_training.history[\"loss\"])\n",
    "training_ax.plot(model_training.history[\"accuracy\"])\n",
    "training_ax.set_title(\"Training Loss and Accuracy\")\n",
    "training_ax.set_xlabel(\"Epoch\")\n",
    "training_ax.set_ylabel(\"Loss and Accuracy\")\n",
    "training_ax.legend([\"Loss\", \"Accuracy\"], loc = \"upper right\")\n",
    "\n",
    "validation_fig = plt.figure()\n",
    "validation_ax = validation_fig.add_subplot(111)\n",
    "validation_ax.plot(model_training.history[\"val_loss\"])\n",
    "validation_ax.plot(model_training.history[\"val_accuracy\"])\n",
    "validation_ax.set_title(\"Validation Loss and Accuracy\")\n",
    "validation_ax.set_xlabel(\"Epoch\")\n",
    "validation_ax.set_ylabel(\"Loss and Accuracy\")\n",
    "validation_ax.legend([\"Validation Loss\", \"Validation Accuracy\"], loc = \"upper right\")\n",
    "\n",
    "train_val_loss_fig = plt.figure()\n",
    "train_val_loss_ax = train_val_loss_fig.add_subplot(111)\n",
    "train_val_loss_ax.plot(model_training.history[\"loss\"])\n",
    "train_val_loss_ax.plot(model_training.history[\"val_loss\"])\n",
    "train_val_loss_ax.set_title(\"Training and Validation Loss\")\n",
    "train_val_loss_ax.set_xlabel(\"Epoch\")\n",
    "train_val_loss_ax.set_ylabel(\"Loss\")\n",
    "train_val_loss_ax.legend([\"Loss\", \"Validation Loss\"], loc = \"upper right\")\n",
    "\n",
    "train_val_acc_fig = plt.figure()\n",
    "train_val_acc_ax = train_val_acc_fig.add_subplot(111)\n",
    "train_val_acc_ax.plot(model_training.history[\"accuracy\"])\n",
    "train_val_acc_ax.plot(model_training.history[\"val_accuracy\"])\n",
    "train_val_acc_ax.set_title(\"Training and Validation Accuracy\")\n",
    "train_val_acc_ax.set_xlabel(\"Epoch\")\n",
    "train_val_acc_ax.set_ylabel(\"Accuracy (%)\")\n",
    "train_val_acc_ax.legend([\"Accuracy\", \"Validation Accuracy\"], loc = \"upper right\")\n",
    "\n",
    "plt.show()"
   ]
  },
  {
   "cell_type": "markdown",
   "metadata": {},
   "source": [
    "## Expected output:\n",
    "<p>Your plots should be similar to the ones below, but they won't be exact match</P>\n",
    "<p><img src=\"Figure2.png\" width=\"40%\" height=\"40%\" align=\"left\"> <br></p>\n"
   ]
  },
  {
   "cell_type": "markdown",
   "metadata": {},
   "source": [
    "Now let's evaluate the model on the training and test images.  First, we will need to get the h values.  Keep in mind that the we need to inverse transform the 1hot encoded labels to the original labels."
   ]
  },
  {
   "cell_type": "code",
   "execution_count": 10,
   "metadata": {},
   "outputs": [],
   "source": [
    "p_train_ohe = model.predict(X_train_flat)\n",
    "h_train_ohe = np.array([item for item in p_train_ohe > 0.5], dtype = int) # Convert probabilities to class labels\n",
    "h_train = np.squeeze(ohe.inverse_transform(h_train_ohe)) # Retrieve original class labels\n",
    "\n",
    "p_test_ohe = model.predict(X_test_flat)\n",
    "h_test_ohe = np.array([item for item in p_test_ohe > 0.5], dtype = int) \n",
    "h_test = np.squeeze(ohe.inverse_transform(h_test_ohe))"
   ]
  },
  {
   "cell_type": "markdown",
   "metadata": {},
   "source": [
    "Next, we will measure the model performance on the training set and test set using Confusion Matrix, Average Accuracy, Average Precision, Average Recall and Average F1-Score. "
   ]
  },
  {
   "cell_type": "code",
   "execution_count": 11,
   "metadata": {},
   "outputs": [
    {
     "name": "stdout",
     "output_type": "stream",
     "text": [
      "Training Performance:\n",
      "Average Train Confusion Matrix:\n",
      " [[5890    1    2    3    1    2    9    1    8    6]\n",
      " [  35 6646   14    5   11    2    4   14    9    2]\n",
      " [  61    5 5807    8   11    0    1   50   11    4]\n",
      " [  86    3   20 5883    0   43    0   39   37   20]\n",
      " [  28    2    7    0 5721    1   16    2    2   63]\n",
      " [  75    4    2   29    3 5265   18    2   12   11]\n",
      " [  56    4    2    0    6   20 5827    0    3    0]\n",
      " [  57   16   11    0   20    0    0 6127    3   31]\n",
      " [  75   23    5   14    5   21    6    7 5667   28]\n",
      " [  78    2    0    6   36   11    0   40    7 5769]]\n",
      "Average Train Accuracy: 97.67%\n",
      "Average Train Precision 97.72%\n",
      "Average Train Recall: 97.66%\n",
      "Average Train F1: 97.67%\n",
      "Testing Performance:\n",
      "Average Test Confusion Matrix:\n",
      " [[ 975    1    0    0    0    1    2    1    0    0]\n",
      " [   6 1124    1    0    0    1    1    0    2    0]\n",
      " [  15    1  996    1    2    0    1   13    3    0]\n",
      " [  13    0    1  980    0    4    0    8    3    1]\n",
      " [  12    0    2    0  952    0    4    1    0   11]\n",
      " [  15    0    0    5    2  864    4    0    0    2]\n",
      " [  16    3    0    0    3    3  929    0    4    0]\n",
      " [   8    6    7    0    4    0    0  998    0    5]\n",
      " [  14    1    2    4    4    2    1    2  941    3]\n",
      " [  21    2    0    4   10    2    0    4    1  965]]\n",
      "Average Test Accuracy: 97.24%\n",
      "Average Test Precision 97.33%\n",
      "Average Test Recall 97.22%\n",
      "Average Test F1: 97.24%\n"
     ]
    }
   ],
   "source": [
    "cf_train = confusion_matrix(y_train_flat, h_train)\n",
    "ca_train = np.mean(accuracy_score(y_train_flat, h_train))\n",
    "ps_train = np.mean(precision_score(y_train_flat, h_train, average = None)) \n",
    "rs_train = np.mean(recall_score(y_train_flat, h_train, average = None))\n",
    "f1_train = np.mean(f1_score(y_train_flat, h_train, average = None))\n",
    "print(\"Training Performance:\")\n",
    "print(\"Average Train Confusion Matrix:\\n\", cf_train)\n",
    "print(\"Average Train Accuracy: {0:0.2%}\".format(ca_train))\n",
    "print(\"Average Train Precision {0:0.2%}\".format(ps_train))\n",
    "print(\"Average Train Recall: {0:0.2%}\".format(rs_train))\n",
    "print(\"Average Train F1: {0:0.2%}\".format(f1_train))\n",
    "\n",
    "cf_test = confusion_matrix(y_test_flat, h_test)\n",
    "ca_test = np.mean(accuracy_score(y_test_flat, h_test))\n",
    "ps_test = np.mean(precision_score(y_test_flat, h_test, average = None))\n",
    "rs_test = np.mean(recall_score(y_test_flat, h_test, average = None))\n",
    "f1_test = np.mean(f1_score(y_test_flat, h_test, average = None))\n",
    "print(\"Testing Performance:\")\n",
    "print(\"Average Test Confusion Matrix:\\n\", cf_test)\n",
    "print(\"Average Test Accuracy: {0:0.2%}\".format(ca_test))\n",
    "print(\"Average Test Precision {0:0.2%}\".format(ps_test))\n",
    "print(\"Average Test Recall {0:0.2%}\".format(rs_test))\n",
    "print(\"Average Test F1: {0:0.2%}\".format(f1_test))"
   ]
  },
  {
   "cell_type": "markdown",
   "metadata": {},
   "source": [
    "## Expected output:\n",
    "<p> You performance should be close to the following, it won't be exact.</p>\n",
    "<p><img src=\"Figure3.png\" width=\"40%\" height=\"40%\" align=\"left\"> <br></p>\n"
   ]
  },
  {
   "cell_type": "markdown",
   "metadata": {},
   "source": [
    "Finally, let's examine a set of images and compare their predicted and actual labels."
   ]
  },
  {
   "cell_type": "code",
   "execution_count": 12,
   "metadata": {},
   "outputs": [
    {
     "data": {
      "image/png": "[encoded data removed]",
      "text/plain": [
       "<Figure size 360x360 with 25 Axes>"
      ]
     },
     "metadata": {
      "needs_background": "light"
     },
     "output_type": "display_data"
    }
   ],
   "source": [
    "np.random.seed(5)\n",
    "\n",
    "display_a_random_sample_of_images(5, X_test, y_test, predictions = h_test, \n",
    "                                  title = \"Handwritten Images: Actual Digit, Predicted Digit\")\n",
    "plt.show()"
   ]
  },
  {
   "cell_type": "markdown",
   "metadata": {},
   "source": [
    "## Expected output:\n",
    "<p> You output should be close to the following, but it won't be exact.</p>\n",
    "<p><img src=\"Figure4.png\" width=\"20%\" height=\"20%\" align=\"left\"> <br></p>"
   ]
  }
 ],
 "metadata": {
  "kernelspec": {
   "display_name": "Python 3",
   "language": "python",
   "name": "python3"
  },
  "language_info": {
   "codemirror_mode": {
    "name": "ipython",
    "version": 3
   },
   "file_extension": ".py",
   "mimetype": "text/x-python",
   "name": "python",
   "nbconvert_exporter": "python",
   "pygments_lexer": "ipython3",
   "version": "3.7.7"
  }
 },
 "nbformat": 4,
 "nbformat_minor": 2
}
